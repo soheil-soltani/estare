{
 "cells": [
  {
   "cell_type": "code",
   "execution_count": 1,
   "metadata": {},
   "outputs": [],
   "source": [
    "from skimage.io import imsave, imread\n",
    "from skimage import img_as_float\n",
    "import numpy as np\n",
    "import matplotlib.pyplot as plt"
   ]
  },
  {
   "cell_type": "code",
   "execution_count": 17,
   "metadata": {},
   "outputs": [],
   "source": [
    "a = np.zeros( (1080, 1920), dtype=float )"
   ]
  },
  {
   "cell_type": "code",
   "execution_count": 28,
   "metadata": {},
   "outputs": [],
   "source": [
    "position_1 = np.array( [200,100] ).T\n",
    "position_2 = np.array( [257,34] ).T \n",
    "position_3 = np.array( [20,30] ).T"
   ]
  },
  {
   "cell_type": "code",
   "execution_count": 31,
   "metadata": {},
   "outputs": [],
   "source": [
    "a[position_1[0], position_1[1]] = 0.5\n",
    "a[position_2[0], position_2[1]] = 0.5\n",
    "a[position_3[0], position_3[1]] = 0.5"
   ]
  },
  {
   "cell_type": "code",
   "execution_count": 53,
   "metadata": {},
   "outputs": [
    {
     "data": {
      "text/plain": [
       "Text(0.5, 1.0, 'Before')"
      ]
     },
     "execution_count": 53,
     "metadata": {},
     "output_type": "execute_result"
    },
    {
     "data": {
      "image/png": "[encoded data removed]",
      "text/plain": [
       "<Figure size 432x288 with 2 Axes>"
      ]
     },
     "metadata": {
      "needs_background": "light"
     },
     "output_type": "display_data"
    }
   ],
   "source": [
    "fig, (axis1, axis2) = plt.subplots(1,2)\n",
    "axis1.imshow(a, cmap='gray')\n",
    "axis1.set_title('Before')"
   ]
  },
  {
   "cell_type": "code",
   "execution_count": 33,
   "metadata": {},
   "outputs": [],
   "source": [
    "def arc(position, origo=np.array([0., 0.]), radians=False):\n",
    "    '''\n",
    "Returns the angle between the input coordinate and the vertical axis Y\n",
    "'''\n",
    "    rho = np.sqrt( (position[0]-origo[0])**2 + (position[1]-origo[1])**2 )\n",
    "    angle = np.arccos( (position[0]-origo[0]) / rho )\n",
    "    \n",
    "    if radians==False:\n",
    "        angle = angle*180.0/np.pi\n",
    "        \n",
    "    return angle\n",
    "\n",
    "\n",
    "\n",
    "# apply rotation\n",
    "def rotate(position, angle, origo=np.array([0., 0.]), radians=False):\n",
    "    theta = angle + arc(position, radians=radians)\n",
    "    if radians==False:\n",
    "        theta = theta*(np.pi/180.0)   # convert degree to radians\n",
    "\n",
    "    rho = np.sqrt((position[0]-origo[0])**2 + (position[1]-origo[1])**2)\n",
    "    x = rho*np.cos(theta)\n",
    "    y = rho*np.sin(theta)\n",
    "\n",
    "    rotated_position = np.rint([x, y]) \n",
    "    print([x,y])\n",
    "    return np.array( [int(rotated_position[0]), int(rotated_position[1])] )"
   ]
  },
  {
   "cell_type": "code",
   "execution_count": 58,
   "metadata": {},
   "outputs": [
    {
     "name": "stdout",
     "output_type": "stream",
     "text": [
      "[153.7365098246148, 162.3732907437246]\n",
      "[229.87231866890568, 119.84872594141784]\n",
      "[8.533248115948108, 35.031181490090624]\n",
      "[154 162]\n",
      "[230 120]\n",
      "[ 9 35]\n"
     ]
    }
   ],
   "source": [
    "# Rotate the points 20 deg.\n",
    "pos1_rot = rotate(position_1, 20)\n",
    "pos2_rot = rotate(position_2, 20)\n",
    "pos3_rot = rotate(position_3, 20)\n",
    "print(pos1_rot)\n",
    "print(pos2_rot)\n",
    "print(pos3_rot)"
   ]
  },
  {
   "cell_type": "code",
   "execution_count": 59,
   "metadata": {},
   "outputs": [
    {
     "name": "stdout",
     "output_type": "stream",
     "text": [
      "[169, 172]\n",
      "[245, 130]\n",
      "[24, 45]\n"
     ]
    }
   ],
   "source": [
    "# Now translate the rotated points\n",
    "transH = 15\n",
    "transW = 10\n",
    "\n",
    "pos1_rot_tra = [pos1_rot[0] + transH, pos1_rot[1] + transW]\n",
    "pos2_rot_tra = [pos2_rot[0] + transH, pos2_rot[1] + transW]\n",
    "pos3_rot_tra = [pos3_rot[0] + transH, pos3_rot[1] + transW]\n",
    "print(pos1_rot_tra)\n",
    "print(pos2_rot_tra)\n",
    "print(pos3_rot_tra)"
   ]
  },
  {
   "cell_type": "code",
   "execution_count": 38,
   "metadata": {},
   "outputs": [],
   "source": [
    "# Uncomment to see the points after both rotation and translation\n",
    "# a[pos1_rot_tra[0], pos1_rot_tra[1]] = 1\n",
    "# a[pos2_rot_tra[0], pos2_rot_tra[1]] = 1\n",
    "# a[pos3_rot_tra[0], pos3_rot_tra[1]] = 1"
   ]
  },
  {
   "cell_type": "code",
   "execution_count": 39,
   "metadata": {},
   "outputs": [],
   "source": [
    "delH_1 = pos1_rot_tra[0] - position_1[0]\n",
    "delH_2 = pos2_rot_tra[0] - position_2[0]\n",
    "delH_3 = pos3_rot_tra[0] - position_3[0]\n",
    "\n",
    "delW_1 = pos1_rot_tra[1] - position_1[1]\n",
    "delW_2 = pos2_rot_tra[1] - position_2[1]\n",
    "delW_3 = pos3_rot_tra[1] - position_3[1]"
   ]
  },
  {
   "cell_type": "code",
   "execution_count": 42,
   "metadata": {},
   "outputs": [],
   "source": [
    "# Step 1: Take point3 as reference and remove delH and delW:\n",
    "pos1_detran = ([pos1_rot_tra[0] - delH_3, pos1_rot_tra[1] - delW_3] )\n",
    "pos2_detran = ([pos2_rot_tra[0] - delH_3, pos2_rot_tra[1] - delW_3] )\n",
    "pos3_detran = ([pos3_rot_tra[0] - delH_3, pos3_rot_tra[1] - delW_3] )\n",
    "\n",
    "# Uncomment to see the effect of removing delH, delW\n",
    "# a[pos1_detran[0], pos1_detran[1]] = 0.75\n",
    "# a[pos2_detran[0], pos2_detran[1]] = 0.75"
   ]
  },
  {
   "cell_type": "code",
   "execution_count": 13,
   "metadata": {},
   "outputs": [],
   "source": [
    "# Uncomment to see the effect of removing delH, delW\n",
    "# a[pos1_detran[0], pos1_detran[1]] = 0.75\n",
    "# a[pos2_detran[0], pos2_detran[1]] = 0.75"
   ]
  },
  {
   "cell_type": "code",
   "execution_count": 43,
   "metadata": {},
   "outputs": [
    {
     "name": "stdout",
     "output_type": "stream",
     "text": [
      "angle_1:  -19.963382457485178 angle_2:  -20.07058545377756\n"
     ]
    }
   ],
   "source": [
    "# Step 2: Find the angle between each relocated point and the origin being at the reference point\n",
    "angle_1= arc(position_1, origo=pos3_detran) - arc(pos1_detran, origo=pos3_detran)\n",
    "angle_2= arc(position_2, origo=pos3_detran) - arc(pos2_detran, origo=pos3_detran)  \n",
    "\n",
    "# angle_1= arc(position_1) - arc(pos1_detran)\n",
    "# angle_2= arc(position_2) - arc(pos2_detran)\n",
    "\n",
    "print('angle_1: ', angle_1, 'angle_2: ', angle_2)"
   ]
  },
  {
   "cell_type": "code",
   "execution_count": 47,
   "metadata": {},
   "outputs": [
    {
     "name": "stdout",
     "output_type": "stream",
     "text": [
      "[176.61426341960015, 77.21011563747385]\n",
      "[235.71657426284204, 22.443186444666672]\n",
      "[20, 30]\n",
      "[197 107]\n",
      "[256  52]\n"
     ]
    }
   ],
   "source": [
    "# Step 3: Derotate\n",
    "pos1_detran_derot = rotate(pos1_detran, angle_1, origo=pos3_detran) + pos3_detran\n",
    "pos2_detran_derot = rotate(pos2_detran, angle_2, origo=pos3_detran) + pos3_detran\n",
    "\n",
    "print(pos3_detran)\n",
    "print(pos1_detran_derot)\n",
    "print(pos2_detran_derot)"
   ]
  },
  {
   "cell_type": "code",
   "execution_count": 54,
   "metadata": {},
   "outputs": [],
   "source": [
    "a[pos1_detran_derot[0], pos1_detran_derot[1]] = 1.0\n",
    "a[pos2_detran_derot[0], pos2_detran_derot[1]] = 1.0\n",
    "\n",
    "axis2.imshow(a, cmap='gray')\n",
    "axis2.set_title('After')\n",
    "plt.show()"
   ]
  },
  {
   "cell_type": "code",
   "execution_count": null,
   "metadata": {},
   "outputs": [],
   "source": []
  }
 ],
 "metadata": {
  "kernelspec": {
   "display_name": "Python 3",
   "language": "python",
   "name": "python3"
  },
  "language_info": {
   "codemirror_mode": {
    "name": "ipython",
    "version": 3
   },
   "file_extension": ".py",
   "mimetype": "text/x-python",
   "name": "python",
   "nbconvert_exporter": "python",
   "pygments_lexer": "ipython3",
   "version": "3.8.3"
  }
 },
 "nbformat": 4,
 "nbformat_minor": 4
}
